{
 "cells": [
  {
   "cell_type": "code",
   "execution_count": 3,
   "metadata": {},
   "outputs": [
    {
     "name": "stdout",
     "output_type": "stream",
     "text": [
      "Requirement already satisfied: pandas in c:\\users\\zeesh\\appdata\\local\\programs\\python\\python312\\lib\\site-packages (2.2.2)\n",
      "Requirement already satisfied: numpy>=1.26.0 in c:\\users\\zeesh\\appdata\\local\\programs\\python\\python312\\lib\\site-packages (from pandas) (2.1.1)\n",
      "Requirement already satisfied: python-dateutil>=2.8.2 in c:\\users\\zeesh\\appdata\\local\\programs\\python\\python312\\lib\\site-packages (from pandas) (2.9.0.post0)\n",
      "Requirement already satisfied: pytz>=2020.1 in c:\\users\\zeesh\\appdata\\local\\programs\\python\\python312\\lib\\site-packages (from pandas) (2024.2)\n",
      "Requirement already satisfied: tzdata>=2022.7 in c:\\users\\zeesh\\appdata\\local\\programs\\python\\python312\\lib\\site-packages (from pandas) (2024.1)\n",
      "Requirement already satisfied: six>=1.5 in c:\\users\\zeesh\\appdata\\local\\programs\\python\\python312\\lib\\site-packages (from python-dateutil>=2.8.2->pandas) (1.16.0)\n"
     ]
    }
   ],
   "source": [
    "!pip install pandas\n",
    "\n",
    "import pandas as pd\n",
    "\n",
    "# Load the EEG dataset\n",
    "eeg_data = pd.read_csv('eeg.csv')\n",
    "\n",
    "\n"
   ]
  },
  {
   "cell_type": "code",
   "execution_count": 4,
   "metadata": {},
   "outputs": [
    {
     "name": "stdout",
     "output_type": "stream",
     "text": [
      "            time         P3         C3        F3         Fz         F4  \\\n",
      "0  183779.930867 -23.763599 -31.924854 -1.934982 -79.180916 -86.278717   \n",
      "1  183779.930913 -26.475424 -31.927679 -6.166468 -81.603569 -92.313293   \n",
      "2  183779.930932 -20.439611 -26.794561 -1.640890 -79.197510 -86.579071   \n",
      "3  183779.930950 -27.830748 -31.778809 -2.383846 -79.627190 -89.444626   \n",
      "4  183779.930966 -29.192734 -33.141907 -1.619983 -77.948120 -85.371559   \n",
      "\n",
      "          C4         P4         Cz          Pz  ...          O2      X3  \\\n",
      "0 -67.345665 -83.710152 -58.295597 -133.929596  ... -115.251083 -12.642   \n",
      "1 -72.470337 -82.810837 -60.407738 -133.932419  ... -117.061508 -12.341   \n",
      "2 -65.229378 -76.173592 -57.987892 -127.896614  ... -109.820625 -12.943   \n",
      "3 -67.497818 -82.062004 -58.447430 -136.190750  ... -119.922363 -12.341   \n",
      "4 -66.145111 -84.629982 -60.709770 -140.863739  ... -129.716873 -12.642   \n",
      "\n",
      "          X2          F7          F8     X1         A2          T6  \\\n",
      "0 -20.167000 -710.807129 -150.497223 -6.923 -49.240189 -142.959595   \n",
      "1 -19.865999 -709.306091 -158.934479 -6.622 -53.763802 -143.263428   \n",
      "2 -19.865999 -703.270325 -151.994980 -6.622 -46.823830 -135.421616   \n",
      "3 -20.167000 -703.744385 -152.457153 -6.622 -48.186092 -139.200745   \n",
      "4 -19.865999 -710.823547 -153.816605 -6.622 -45.927204 -145.077728   \n",
      "\n",
      "           T4   TRG  \n",
      "0  106.397591  16.0  \n",
      "1  100.356392  16.0  \n",
      "2  110.920982  16.0  \n",
      "3  109.570976  16.0  \n",
      "4  107.313339  16.0  \n",
      "\n",
      "[5 rows x 25 columns]\n"
     ]
    }
   ],
   "source": [
    "# Check the first few rows to understand the structure\n",
    "print(eeg_data.head())\n"
   ]
  },
  {
   "cell_type": "code",
   "execution_count": 6,
   "metadata": {},
   "outputs": [
    {
     "name": "stdout",
     "output_type": "stream",
     "text": [
      "Collecting scipy\n",
      "  Downloading scipy-1.14.1-cp312-cp312-win_amd64.whl.metadata (60 kB)\n",
      "Requirement already satisfied: numpy<2.3,>=1.23.5 in c:\\users\\zeesh\\appdata\\local\\programs\\python\\python312\\lib\\site-packages (from scipy) (2.1.1)\n",
      "Downloading scipy-1.14.1-cp312-cp312-win_amd64.whl (44.5 MB)\n",
      "   ---------------------------------------- 0.0/44.5 MB ? eta -:--:--\n",
      "   ---------------------------------------- 0.3/44.5 MB ? eta -:--:--\n",
      "   - -------------------------------------- 1.3/44.5 MB 4.0 MB/s eta 0:00:11\n",
      "   - -------------------------------------- 1.6/44.5 MB 4.7 MB/s eta 0:00:10\n",
      "   -- ------------------------------------- 2.9/44.5 MB 4.3 MB/s eta 0:00:10\n",
      "   --- ------------------------------------ 3.7/44.5 MB 3.8 MB/s eta 0:00:11\n",
      "   --- ------------------------------------ 3.9/44.5 MB 3.6 MB/s eta 0:00:12\n",
      "   ---- ----------------------------------- 4.7/44.5 MB 3.4 MB/s eta 0:00:12\n",
      "   ---- ----------------------------------- 5.0/44.5 MB 3.1 MB/s eta 0:00:13\n",
      "   ---- ----------------------------------- 5.5/44.5 MB 3.0 MB/s eta 0:00:14\n",
      "   ----- ---------------------------------- 6.3/44.5 MB 3.1 MB/s eta 0:00:13\n",
      "   ----- ---------------------------------- 6.6/44.5 MB 2.9 MB/s eta 0:00:14\n",
      "   ------ --------------------------------- 7.1/44.5 MB 2.9 MB/s eta 0:00:13\n",
      "   ------ --------------------------------- 7.3/44.5 MB 2.8 MB/s eta 0:00:14\n",
      "   ------ --------------------------------- 7.6/44.5 MB 2.7 MB/s eta 0:00:14\n",
      "   ------- -------------------------------- 7.9/44.5 MB 2.6 MB/s eta 0:00:15\n",
      "   ------- -------------------------------- 7.9/44.5 MB 2.6 MB/s eta 0:00:15\n",
      "   ------- -------------------------------- 8.1/44.5 MB 2.4 MB/s eta 0:00:16\n",
      "   ------- -------------------------------- 8.4/44.5 MB 2.3 MB/s eta 0:00:16\n",
      "   ------- -------------------------------- 8.7/44.5 MB 2.2 MB/s eta 0:00:17\n",
      "   ------- -------------------------------- 8.7/44.5 MB 2.2 MB/s eta 0:00:17\n",
      "   -------- ------------------------------- 8.9/44.5 MB 2.1 MB/s eta 0:00:18\n",
      "   -------- ------------------------------- 9.2/44.5 MB 2.0 MB/s eta 0:00:18\n",
      "   -------- ------------------------------- 9.2/44.5 MB 2.0 MB/s eta 0:00:18\n",
      "   -------- ------------------------------- 9.4/44.5 MB 2.0 MB/s eta 0:00:18\n",
      "   -------- ------------------------------- 9.7/44.5 MB 1.9 MB/s eta 0:00:19\n",
      "   -------- ------------------------------- 10.0/44.5 MB 1.8 MB/s eta 0:00:19\n",
      "   --------- ------------------------------ 10.2/44.5 MB 1.8 MB/s eta 0:00:19\n",
      "   --------- ------------------------------ 10.2/44.5 MB 1.8 MB/s eta 0:00:19\n",
      "   --------- ------------------------------ 10.5/44.5 MB 1.8 MB/s eta 0:00:20\n",
      "   --------- ------------------------------ 10.7/44.5 MB 1.7 MB/s eta 0:00:20\n",
      "   --------- ------------------------------ 11.0/44.5 MB 1.7 MB/s eta 0:00:20\n",
      "   ---------- ----------------------------- 11.3/44.5 MB 1.7 MB/s eta 0:00:20\n",
      "   ---------- ----------------------------- 11.5/44.5 MB 1.7 MB/s eta 0:00:20\n",
      "   ---------- ----------------------------- 11.8/44.5 MB 1.6 MB/s eta 0:00:20\n",
      "   ---------- ----------------------------- 12.1/44.5 MB 1.6 MB/s eta 0:00:20\n",
      "   ---------- ----------------------------- 12.1/44.5 MB 1.6 MB/s eta 0:00:20\n",
      "   ----------- ---------------------------- 12.3/44.5 MB 1.6 MB/s eta 0:00:20\n",
      "   ----------- ---------------------------- 12.6/44.5 MB 1.6 MB/s eta 0:00:20\n",
      "   ----------- ---------------------------- 12.8/44.5 MB 1.6 MB/s eta 0:00:20\n",
      "   ----------- ---------------------------- 13.1/44.5 MB 1.6 MB/s eta 0:00:20\n",
      "   ------------ --------------------------- 13.4/44.5 MB 1.6 MB/s eta 0:00:20\n",
      "   ------------ --------------------------- 13.6/44.5 MB 1.6 MB/s eta 0:00:20\n",
      "   ------------ --------------------------- 13.9/44.5 MB 1.6 MB/s eta 0:00:20\n",
      "   ------------ --------------------------- 14.2/44.5 MB 1.5 MB/s eta 0:00:20\n",
      "   ------------ --------------------------- 14.4/44.5 MB 1.5 MB/s eta 0:00:20\n",
      "   ------------- -------------------------- 14.7/44.5 MB 1.5 MB/s eta 0:00:20\n",
      "   ------------- -------------------------- 14.9/44.5 MB 1.5 MB/s eta 0:00:20\n",
      "   ------------- -------------------------- 15.2/44.5 MB 1.5 MB/s eta 0:00:20\n",
      "   ------------- -------------------------- 15.5/44.5 MB 1.5 MB/s eta 0:00:20\n",
      "   -------------- ------------------------- 15.7/44.5 MB 1.5 MB/s eta 0:00:20\n",
      "   -------------- ------------------------- 16.3/44.5 MB 1.5 MB/s eta 0:00:19\n",
      "   -------------- ------------------------- 16.5/44.5 MB 1.5 MB/s eta 0:00:19\n",
      "   --------------- ------------------------ 16.8/44.5 MB 1.5 MB/s eta 0:00:19\n",
      "   --------------- ------------------------ 17.3/44.5 MB 1.5 MB/s eta 0:00:18\n",
      "   --------------- ------------------------ 17.6/44.5 MB 1.5 MB/s eta 0:00:18\n",
      "   ---------------- ----------------------- 18.1/44.5 MB 1.5 MB/s eta 0:00:18\n",
      "   ---------------- ----------------------- 18.4/44.5 MB 1.5 MB/s eta 0:00:17\n",
      "   ---------------- ----------------------- 18.9/44.5 MB 1.6 MB/s eta 0:00:17\n",
      "   ----------------- ---------------------- 19.4/44.5 MB 1.6 MB/s eta 0:00:17\n",
      "   ----------------- ---------------------- 19.9/44.5 MB 1.6 MB/s eta 0:00:16\n",
      "   ------------------ --------------------- 20.4/44.5 MB 1.6 MB/s eta 0:00:16\n",
      "   ------------------ --------------------- 21.0/44.5 MB 1.6 MB/s eta 0:00:15\n",
      "   ------------------- -------------------- 21.8/44.5 MB 1.6 MB/s eta 0:00:14\n",
      "   -------------------- ------------------- 22.5/44.5 MB 1.7 MB/s eta 0:00:14\n",
      "   -------------------- ------------------- 23.1/44.5 MB 1.7 MB/s eta 0:00:13\n",
      "   --------------------- ------------------ 23.9/44.5 MB 1.7 MB/s eta 0:00:13\n",
      "   --------------------- ------------------ 24.1/44.5 MB 1.7 MB/s eta 0:00:12\n",
      "   ---------------------- ----------------- 24.6/44.5 MB 1.7 MB/s eta 0:00:12\n",
      "   ---------------------- ----------------- 25.2/44.5 MB 1.7 MB/s eta 0:00:12\n",
      "   ---------------------- ----------------- 25.4/44.5 MB 1.7 MB/s eta 0:00:12\n",
      "   ----------------------- ---------------- 25.7/44.5 MB 1.7 MB/s eta 0:00:11\n",
      "   ----------------------- ---------------- 26.0/44.5 MB 1.7 MB/s eta 0:00:11\n",
      "   ----------------------- ---------------- 26.5/44.5 MB 1.7 MB/s eta 0:00:11\n",
      "   ------------------------ --------------- 26.7/44.5 MB 1.7 MB/s eta 0:00:11\n",
      "   ------------------------ --------------- 27.0/44.5 MB 1.7 MB/s eta 0:00:11\n",
      "   ------------------------ --------------- 27.3/44.5 MB 1.7 MB/s eta 0:00:11\n",
      "   ------------------------ --------------- 27.8/44.5 MB 1.7 MB/s eta 0:00:10\n",
      "   ------------------------- -------------- 28.0/44.5 MB 1.7 MB/s eta 0:00:10\n",
      "   ------------------------- -------------- 28.3/44.5 MB 1.7 MB/s eta 0:00:10\n",
      "   ------------------------- -------------- 28.8/44.5 MB 1.7 MB/s eta 0:00:10\n",
      "   -------------------------- ------------- 29.1/44.5 MB 1.7 MB/s eta 0:00:10\n",
      "   -------------------------- ------------- 29.4/44.5 MB 1.7 MB/s eta 0:00:09\n",
      "   -------------------------- ------------- 29.9/44.5 MB 1.7 MB/s eta 0:00:09\n",
      "   --------------------------- ------------ 30.1/44.5 MB 1.7 MB/s eta 0:00:09\n",
      "   --------------------------- ------------ 30.4/44.5 MB 1.7 MB/s eta 0:00:09\n",
      "   --------------------------- ------------ 30.7/44.5 MB 1.7 MB/s eta 0:00:09\n",
      "   ---------------------------- ----------- 31.2/44.5 MB 1.7 MB/s eta 0:00:08\n",
      "   ---------------------------- ----------- 31.5/44.5 MB 1.7 MB/s eta 0:00:08\n",
      "   ---------------------------- ----------- 32.0/44.5 MB 1.7 MB/s eta 0:00:08\n",
      "   ---------------------------- ----------- 32.2/44.5 MB 1.7 MB/s eta 0:00:08\n",
      "   ----------------------------- ---------- 32.5/44.5 MB 1.7 MB/s eta 0:00:08\n",
      "   ----------------------------- ---------- 32.8/44.5 MB 1.7 MB/s eta 0:00:07\n",
      "   ----------------------------- ---------- 33.3/44.5 MB 1.7 MB/s eta 0:00:07\n",
      "   ------------------------------ --------- 33.6/44.5 MB 1.7 MB/s eta 0:00:07\n",
      "   ------------------------------ --------- 34.1/44.5 MB 1.7 MB/s eta 0:00:07\n",
      "   ------------------------------ --------- 34.3/44.5 MB 1.7 MB/s eta 0:00:06\n",
      "   ------------------------------- -------- 34.6/44.5 MB 1.7 MB/s eta 0:00:06\n",
      "   ------------------------------- -------- 35.1/44.5 MB 1.7 MB/s eta 0:00:06\n",
      "   ------------------------------- -------- 35.4/44.5 MB 1.7 MB/s eta 0:00:06\n",
      "   -------------------------------- ------- 35.9/44.5 MB 1.7 MB/s eta 0:00:06\n",
      "   -------------------------------- ------- 36.2/44.5 MB 1.7 MB/s eta 0:00:05\n",
      "   -------------------------------- ------- 36.7/44.5 MB 1.7 MB/s eta 0:00:05\n",
      "   --------------------------------- ------ 37.0/44.5 MB 1.7 MB/s eta 0:00:05\n",
      "   --------------------------------- ------ 37.5/44.5 MB 1.7 MB/s eta 0:00:05\n",
      "   --------------------------------- ------ 37.7/44.5 MB 1.7 MB/s eta 0:00:04\n",
      "   ---------------------------------- ----- 38.3/44.5 MB 1.7 MB/s eta 0:00:04\n",
      "   ---------------------------------- ----- 38.8/44.5 MB 1.7 MB/s eta 0:00:04\n",
      "   ----------------------------------- ---- 39.1/44.5 MB 1.7 MB/s eta 0:00:04\n",
      "   ----------------------------------- ---- 39.6/44.5 MB 1.7 MB/s eta 0:00:03\n",
      "   ----------------------------------- ---- 39.8/44.5 MB 1.7 MB/s eta 0:00:03\n",
      "   ------------------------------------ --- 40.4/44.5 MB 1.7 MB/s eta 0:00:03\n",
      "   ------------------------------------ --- 40.9/44.5 MB 1.7 MB/s eta 0:00:03\n",
      "   ------------------------------------- -- 41.4/44.5 MB 1.7 MB/s eta 0:00:02\n",
      "   ------------------------------------- -- 41.9/44.5 MB 1.8 MB/s eta 0:00:02\n",
      "   -------------------------------------- - 42.7/44.5 MB 1.8 MB/s eta 0:00:02\n",
      "   -------------------------------------- - 43.3/44.5 MB 1.8 MB/s eta 0:00:01\n",
      "   ---------------------------------------  43.8/44.5 MB 1.8 MB/s eta 0:00:01\n",
      "   ---------------------------------------  44.3/44.5 MB 1.8 MB/s eta 0:00:01\n",
      "   ---------------------------------------- 44.5/44.5 MB 1.8 MB/s eta 0:00:00\n",
      "Installing collected packages: scipy\n",
      "Successfully installed scipy-1.14.1\n"
     ]
    }
   ],
   "source": [
    "!pip install scipy\n",
    "\n"
   ]
  },
  {
   "cell_type": "code",
   "execution_count": 7,
   "metadata": {},
   "outputs": [
    {
     "name": "stdout",
     "output_type": "stream",
     "text": [
      "       time        P3        C3        F3        Fz        F4        C4  \\\n",
      "0 -0.001096  0.014405 -0.037070 -0.113205 -0.173458 -0.217919  0.038756   \n",
      "1 -0.002191  2.007228  2.326459 -2.075762 -1.447069 -3.178360 -1.420202   \n",
      "2 -0.003956  2.366320  3.476676 -0.881520 -1.948158 -3.156266  0.327713   \n",
      "3 -0.006038 -1.803261  0.401468  0.471456 -1.573445 -1.422976  2.024310   \n",
      "4 -0.006830 -3.430970 -2.736555  0.581182  0.306465  0.887747  2.529270   \n",
      "\n",
      "         P4        Cz        Pz  ...        O2        X3        X2        F7  \\\n",
      "0  0.099458 -0.006253  0.070874  ...  0.033154  0.004263  0.003266  0.057245   \n",
      "1  4.811806 -0.334926  4.985056  ...  5.270054  0.046558  0.248616  3.810518   \n",
      "2  6.043953 -0.221547  5.133423  ...  2.776656  0.014683  0.215812  7.830446   \n",
      "3  2.593215 -1.560368 -1.138963  ... -7.694032  0.017682  0.073591  6.909118   \n",
      "4  1.121455 -1.738621 -3.580189  ... -8.732132  0.098562  0.023940  2.107041   \n",
      "\n",
      "         F8        X1        A2        T6        T4           TRG  \n",
      "0 -0.129003  0.003439 -0.042129  0.023348  0.210228  1.003452e-12  \n",
      "1 -4.833914  0.238800 -2.195911  3.139043 -1.710359  1.015248e-12  \n",
      "2 -3.104541  0.303074 -1.157904  5.469583  0.991932  9.941488e-13  \n",
      "3 -0.049448  0.279372  1.253030  3.047509  2.628751  9.358498e-13  \n",
      "4 -0.691451  0.243618  2.591809 -0.709600  1.319044  8.376475e-13  \n",
      "\n",
      "[5 rows x 25 columns]\n"
     ]
    }
   ],
   "source": [
    "from scipy.signal import butter, filtfilt\n",
    "\n",
    "# Define a function to apply a band-pass filter\n",
    "def bandpass_filter(data, lowcut, highcut, fs, order=4):\n",
    "    nyquist = 0.5 * fs\n",
    "    low = lowcut / nyquist\n",
    "    high = highcut / nyquist\n",
    "    b, a = butter(order, [low, high], btype='band')\n",
    "    filtered_data = filtfilt(b, a, data, axis=0)\n",
    "    return filtered_data\n",
    "\n",
    "# Assuming the dataset contains EEG channels, let's filter them (assuming a sample rate of 250 Hz)\n",
    "fs = 250  # Sampling rate (Hz)\n",
    "lowcut = 7  # Lower bound of SSVEP frequency\n",
    "highcut = 70  # Upper bound of SSVEP frequency\n",
    "\n",
    "# Apply the bandpass filter to each channel of EEG data\n",
    "filtered_eeg = eeg_data.apply(lambda x: bandpass_filter(x, lowcut, highcut, fs))\n",
    "print(filtered_eeg.head())\n"
   ]
  },
  {
   "cell_type": "code",
   "execution_count": 8,
   "metadata": {},
   "outputs": [],
   "source": [
    "# Assuming we have a 'TRG' column in the data that tells us when a specific letter flickered\n",
    "TRG_events = eeg_data[' TRG'] # Added a leading space in the column name\n",
    "\n",
    "# Create segments of EEG data corresponding to each stimulus (here we assume 1 second per trial)\n",
    "# Let's say we divide the data into 1-second chunks for each stimulus event\n",
    "eeg_segments = []\n",
    "segment_length = fs  # 1 second of data\n",
    "\n",
    "for i, stimulus in enumerate(TRG_events.unique()):\n",
    "    # Extract 1-second EEG data segments for each stimulus\n",
    "    segment_start = i * segment_length\n",
    "    segment_end = segment_start + segment_length\n",
    "    eeg_segment = filtered_eeg.iloc[segment_start:segment_end, :]\n",
    "    eeg_segments.append(eeg_segment)\n",
    "\n",
    "# Now eeg_segments will contain 1-second long EEG data chunks for each stimulus"
   ]
  },
  {
   "cell_type": "code",
   "execution_count": 9,
   "metadata": {},
   "outputs": [],
   "source": [
    "import numpy as np\n",
    "\n",
    "# Define function to generate sine and cosine reference signals\n",
    "def generate_reference_signals(freqs, time_points, fs):\n",
    "    reference_signals = []\n",
    "    for freq in freqs:\n",
    "        t = np.arange(0, time_points) / fs\n",
    "        reference_signals.append(np.sin(2 * np.pi * freq * t))\n",
    "        reference_signals.append(np.cos(2 * np.pi * freq * t))\n",
    "    return np.array(reference_signals)\n",
    "\n",
    "# Assume these are the frequencies used for flickering (in Hz)\n",
    "frequencies = [8, 8.2, 8.4, 8.6, 8.8, 9.0, 9.2, 9.4]\n",
    "\n",
    "# Generate reference signals for a 1-second duration\n",
    "time_points = segment_length\n",
    "reference_signals = generate_reference_signals(frequencies, time_points, fs)"
   ]
  },
  {
   "cell_type": "code",
   "execution_count": 14,
   "metadata": {},
   "outputs": [
    {
     "name": "stdout",
     "output_type": "stream",
     "text": [
      "Collecting scikit-learn\n",
      "  Downloading scikit_learn-1.5.2-cp312-cp312-win_amd64.whl.metadata (13 kB)\n",
      "Requirement already satisfied: numpy>=1.19.5 in c:\\users\\zeesh\\appdata\\local\\programs\\python\\python312\\lib\\site-packages (from scikit-learn) (2.1.1)\n",
      "Requirement already satisfied: scipy>=1.6.0 in c:\\users\\zeesh\\appdata\\local\\programs\\python\\python312\\lib\\site-packages (from scikit-learn) (1.14.1)\n",
      "Collecting joblib>=1.2.0 (from scikit-learn)\n",
      "  Downloading joblib-1.4.2-py3-none-any.whl.metadata (5.4 kB)\n",
      "Collecting threadpoolctl>=3.1.0 (from scikit-learn)\n",
      "  Downloading threadpoolctl-3.5.0-py3-none-any.whl.metadata (13 kB)\n",
      "Downloading scikit_learn-1.5.2-cp312-cp312-win_amd64.whl (11.0 MB)\n",
      "   ---------------------------------------- 0.0/11.0 MB ? eta -:--:--\n",
      "   ---------------------------------------- 0.0/11.0 MB ? eta -:--:--\n",
      "   - -------------------------------------- 0.5/11.0 MB 2.8 MB/s eta 0:00:04\n",
      "   -- ------------------------------------- 0.8/11.0 MB 2.4 MB/s eta 0:00:05\n",
      "   --- ------------------------------------ 1.0/11.0 MB 2.0 MB/s eta 0:00:05\n",
      "   --- ------------------------------------ 1.0/11.0 MB 2.0 MB/s eta 0:00:05\n",
      "   ---- ----------------------------------- 1.3/11.0 MB 1.3 MB/s eta 0:00:08\n",
      "   ----- ---------------------------------- 1.6/11.0 MB 1.1 MB/s eta 0:00:09\n",
      "   ----- ---------------------------------- 1.6/11.0 MB 1.1 MB/s eta 0:00:09\n",
      "   ------- -------------------------------- 2.1/11.0 MB 1.2 MB/s eta 0:00:08\n",
      "   -------- ------------------------------- 2.4/11.0 MB 1.3 MB/s eta 0:00:07\n",
      "   ---------- ----------------------------- 2.9/11.0 MB 1.4 MB/s eta 0:00:06\n",
      "   ----------- ---------------------------- 3.1/11.0 MB 1.4 MB/s eta 0:00:06\n",
      "   ------------- -------------------------- 3.7/11.0 MB 1.5 MB/s eta 0:00:05\n",
      "   -------------- ------------------------- 3.9/11.0 MB 1.5 MB/s eta 0:00:05\n",
      "   ---------------- ----------------------- 4.5/11.0 MB 1.5 MB/s eta 0:00:05\n",
      "   ------------------ --------------------- 5.0/11.0 MB 1.6 MB/s eta 0:00:04\n",
      "   ------------------- -------------------- 5.2/11.0 MB 1.6 MB/s eta 0:00:04\n",
      "   -------------------- ------------------- 5.8/11.0 MB 1.6 MB/s eta 0:00:04\n",
      "   ---------------------- ----------------- 6.3/11.0 MB 1.7 MB/s eta 0:00:03\n",
      "   ----------------------- ---------------- 6.6/11.0 MB 1.7 MB/s eta 0:00:03\n",
      "   ------------------------- -------------- 7.1/11.0 MB 1.7 MB/s eta 0:00:03\n",
      "   --------------------------- ------------ 7.6/11.0 MB 1.7 MB/s eta 0:00:02\n",
      "   ---------------------------- ----------- 7.9/11.0 MB 1.8 MB/s eta 0:00:02\n",
      "   ------------------------------ --------- 8.4/11.0 MB 1.8 MB/s eta 0:00:02\n",
      "   -------------------------------- ------- 8.9/11.0 MB 1.8 MB/s eta 0:00:02\n",
      "   --------------------------------- ------ 9.2/11.0 MB 1.8 MB/s eta 0:00:01\n",
      "   ----------------------------------- ---- 9.7/11.0 MB 1.8 MB/s eta 0:00:01\n",
      "   ------------------------------------- -- 10.2/11.0 MB 1.8 MB/s eta 0:00:01\n",
      "   ---------------------------------------  10.7/11.0 MB 1.9 MB/s eta 0:00:01\n",
      "   ---------------------------------------- 11.0/11.0 MB 1.9 MB/s eta 0:00:00\n",
      "Downloading joblib-1.4.2-py3-none-any.whl (301 kB)\n",
      "Downloading threadpoolctl-3.5.0-py3-none-any.whl (18 kB)\n",
      "Installing collected packages: threadpoolctl, joblib, scikit-learn\n",
      "Successfully installed joblib-1.4.2 scikit-learn-1.5.2 threadpoolctl-3.5.0\n"
     ]
    }
   ],
   "source": [
    "!pip install scikit-learn"
   ]
  },
  {
   "cell_type": "code",
   "execution_count": 15,
   "metadata": {},
   "outputs": [
    {
     "name": "stdout",
     "output_type": "stream",
     "text": [
      "[8.8, 8.8, 9.4, 8.2]\n"
     ]
    }
   ],
   "source": [
    "from sklearn.cross_decomposition import CCA\n",
    "\n",
    "# Function to apply CCA and find the best matching frequency\n",
    "def apply_cca(eeg_data_segment, reference_signals):\n",
    "    cca = CCA(n_components=2) # Changed n_components to 2\n",
    "    correlations = []\n",
    "    for i in range(0, reference_signals.shape[0], 2):\n",
    "        reference_pair = reference_signals[i:i+2, :].T\n",
    "        # eeg_data_segment = eeg_data_segment.values # This line is no longer needed since eeg_data_segment is already a NumPy array\n",
    "        cca.fit(eeg_data_segment, reference_pair)\n",
    "        _, y = cca.transform(eeg_data_segment, reference_pair)\n",
    "        correlation = np.corrcoef(y[:, 0], y[:, 1])[0, 1]\n",
    "        correlations.append(correlation)\n",
    "    return np.argmax(correlations)\n",
    "\n",
    "# Apply CCA to each EEG segment to detect the stimulus frequency\n",
    "detected_frequencies = []\n",
    "for eeg_segment in eeg_segments:\n",
    "    best_match = apply_cca(eeg_segment, reference_signals)\n",
    "    detected_frequencies.append(frequencies[best_match])\n",
    "\n",
    "print(detected_frequencies)  # This will output the detected flicker frequencies"
   ]
  },
  {
   "cell_type": "code",
   "execution_count": 16,
   "metadata": {},
   "outputs": [
    {
     "name": "stdout",
     "output_type": "stream",
     "text": [
      "Detected Letters: ['E', 'E', 'H', 'B']\n"
     ]
    }
   ],
   "source": [
    "# Define a mapping between frequencies and letters\n",
    "frequency_to_letter = {\n",
    "    8.0: 'A', 8.2: 'B', 8.4: 'C', 8.6: 'D', 8.8: 'E', 9.0: 'F', 9.2: 'G', 9.4: 'H'\n",
    "}\n",
    "\n",
    "# Convert detected frequencies to letters\n",
    "detected_letters = [frequency_to_letter[freq] for freq in detected_frequencies]\n",
    "\n",
    "print(\"Detected Letters:\", detected_letters)"
   ]
  },
  {
   "cell_type": "code",
   "execution_count": 17,
   "metadata": {},
   "outputs": [
    {
     "name": "stdout",
     "output_type": "stream",
     "text": [
      "The system detected the following sequence of letters:\n",
      "E E H B\n"
     ]
    }
   ],
   "source": [
    "# Output the detected letters\n",
    "print(\"The system detected the following sequence of letters:\")\n",
    "print(\" \".join(detected_letters))\n"
   ]
  }
 ],
 "metadata": {
  "kernelspec": {
   "display_name": "Python 3",
   "language": "python",
   "name": "python3"
  },
  "language_info": {
   "codemirror_mode": {
    "name": "ipython",
    "version": 3
   },
   "file_extension": ".py",
   "mimetype": "text/x-python",
   "name": "python",
   "nbconvert_exporter": "python",
   "pygments_lexer": "ipython3",
   "version": "3.12.5"
  }
 },
 "nbformat": 4,
 "nbformat_minor": 2
}
